{
 "cells": [
  {
   "cell_type": "code",
   "execution_count": 1,
   "metadata": {},
   "outputs": [],
   "source": [
    "#to send a file of gcode to the printer\n",
    "from printrun.printcore import printcore\n",
    "from printrun import gcoder\n",
    "import time\n",
    "\n",
    "#to generate gcode\n",
    "import fullcontrol as fc\n",
    "import numpy as np\n",
    "\n",
    "#create Gcode\n",
    "filename = 'XY_Circle'\n",
    "printer = 'generic' \n",
    "# printer options: generic, ultimaker2plus, prusa_i3, ender_3, cr_10, bambulab_x1, toolchanger_T0, toolchanger_T1, toolchanger_T2, toolchanger_T3\n",
    "print_settings = {'primer': 'no_primer'}\n",
    "# 'extrusion_width' and 'extrusion_height' are the width and height of the printed line)"
   ]
  },
  {
   "cell_type": "code",
   "execution_count": 2,
   "metadata": {},
   "outputs": [
    {
     "name": "stdout",
     "output_type": "stream",
     "text": [
      "; Time to print!!!!!\n",
      "; GCode created with FullControl - tell us what you're printing!\n",
      "; info@fullcontrol.xyz or tag FullControlXYZ on Twitter/Instagram/LinkedIn/Reddit/TikTok\n",
      "M83 ; relative extrusion\n",
      "G0 F5000 X40.0 Y100.0 Z10.0\n"
     ]
    }
   ],
   "source": [
    "# create list of steps\n",
    "steps=[]\n",
    "steps.append(fc.Printer(print_speed=5000, travel_speed=5000))\n",
    "steps.append(fc.Point(x=40,y=100,z=10))\n",
    "#   Save design to file\n",
    "myGCode = fc.transform(steps, 'gcode', fc.GcodeControls(initialization_data=print_settings))\n",
    "print(myGCode)"
   ]
  },
  {
   "cell_type": "code",
   "execution_count": null,
   "metadata": {},
   "outputs": [
    {
     "data": {
      "text/plain": [
       "True"
      ]
     },
     "execution_count": 3,
     "metadata": {},
     "output_type": "execute_result"
    },
    {
     "name": "stderr",
     "output_type": "stream",
     "text": [
      "ERROR:root:Error:No Checksum with line number, Last Line: -1\n",
      "\n",
      "ERROR:root:Error:No Checksum with line number, Last Line: -1\n",
      "\n",
      "ERROR:root:Error:No Checksum with line number, Last Line: -1\n",
      "\n",
      "ERROR:root:Error:No Checksum with line number, Last Line: -1\n",
      "\n",
      "ERROR:root:Error:No Checksum with line number, Last Line: -1\n",
      "\n",
      "ERROR:root:Error:No Checksum with line number, Last Line: -1\n",
      "\n",
      "ERROR:root:Error:No Checksum with line number, Last Line: -1\n",
      "\n",
      "ERROR:root:Error:No Checksum with line number, Last Line: -1\n",
      "\n",
      "ERROR:root:Error:No Checksum with line number, Last Line: -1\n",
      "\n",
      "ERROR:root:Error:No Checksum with line number, Last Line: -1\n",
      "\n",
      "ERROR:root:Error:No Checksum with line number, Last Line: -1\n",
      "\n",
      "ERROR:root:Error:No Checksum with line number, Last Line: -1\n",
      "\n",
      "ERROR:root:Error:No Checksum with line number, Last Line: -1\n",
      "\n",
      "ERROR:root:Error:No Checksum with line number, Last Line: -1\n",
      "\n",
      "ERROR:root:Error:No Checksum with line number, Last Line: -1\n",
      "\n",
      "ERROR:root:Can't read from printer (disconnected?) Unable to read from serial port 'COM6'\n"
     ]
    }
   ],
   "source": [
    "\n",
    "p=printcore('COM6', 115200) # or p.printcore('COM3',115200) on Windows\n",
    "gcode=[myGCode] # or pass in your own array of gcode lines instead of reading from a file\n",
    "gcode = gcoder.LightGCode(gcode)\n",
    "\n",
    "# startprint silently exits if not connected yet\n",
    "while not p.online:\n",
    "  time.sleep(0.1)\n",
    "\n",
    "p.startprint(gcode) # this will start a print\n"
   ]
  },
  {
   "cell_type": "code",
   "execution_count": 20,
   "metadata": {},
   "outputs": [
    {
     "name": "stdout",
     "output_type": "stream",
     "text": [
      "; Time to print!!!!!\n",
      "; GCode created with FullControl - tell us what you're printing!\n",
      "; info@fullcontrol.xyz or tag FullControlXYZ on Twitter/Instagram/LinkedIn/Reddit/TikTok\n",
      "M83 ; relative extrusion\n",
      "G0 F8000 X70.0 Y115.0 Z10.0\n"
     ]
    }
   ],
   "source": [
    "step=[fc.Point(x=70,y=115,z=10)]\n",
    "#   Save design to file\n",
    "myGCode = fc.transform(step, 'gcode', fc.GcodeControls(initialization_data=print_settings))\n",
    "print(myGCode)\n",
    "\n",
    "p.send_now(myGCode)"
   ]
  },
  {
   "cell_type": "code",
   "execution_count": 21,
   "metadata": {},
   "outputs": [],
   "source": [
    "p.disconnect()"
   ]
  }
 ],
 "metadata": {
  "kernelspec": {
   "display_name": ".venv",
   "language": "python",
   "name": "python3"
  },
  "language_info": {
   "codemirror_mode": {
    "name": "ipython",
    "version": 3
   },
   "file_extension": ".py",
   "mimetype": "text/x-python",
   "name": "python",
   "nbconvert_exporter": "python",
   "pygments_lexer": "ipython3",
   "version": "3.12.5"
  }
 },
 "nbformat": 4,
 "nbformat_minor": 2
}
